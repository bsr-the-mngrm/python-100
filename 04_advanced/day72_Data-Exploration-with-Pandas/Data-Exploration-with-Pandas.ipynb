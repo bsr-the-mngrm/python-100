{
 "cells": [
  {
   "cell_type": "code",
   "execution_count": null,
   "id": "6d7c17f7-f73b-4958-a635-ca0700fa8ce6",
   "metadata": {
    "tags": []
   },
   "outputs": [],
   "source": [
    "import pandas as pd\n",
    "df = pd.read_csv('sample_data/salaries_by_college_major.csv')"
   ]
  },
  {
   "cell_type": "code",
   "execution_count": null,
   "id": "66e27c44-7295-467d-8075-c5142b095e7e",
   "metadata": {
    "tags": []
   },
   "outputs": [],
   "source": [
    "df.head()"
   ]
  },
  {
   "cell_type": "code",
   "execution_count": null,
   "id": "403f2330-8141-4198-b558-c3d2a4e9faba",
   "metadata": {
    "tags": []
   },
   "outputs": [],
   "source": [
    "df.shape"
   ]
  },
  {
   "cell_type": "code",
   "execution_count": null,
   "id": "84441a28-11e7-4927-80c1-19da45cfa9b3",
   "metadata": {
    "tags": []
   },
   "outputs": [],
   "source": [
    "df.columns.values.tolist()"
   ]
  },
  {
   "cell_type": "code",
   "execution_count": null,
   "id": "937e68f0-e1f7-4a58-8edb-3fcce558eb83",
   "metadata": {
    "tags": []
   },
   "outputs": [],
   "source": [
    "df.isna()"
   ]
  },
  {
   "cell_type": "code",
   "execution_count": null,
   "id": "ce401b5c-88c3-4698-b1e1-afde2478e38b",
   "metadata": {
    "tags": []
   },
   "outputs": [],
   "source": [
    "df.tail()"
   ]
  },
  {
   "cell_type": "code",
   "execution_count": null,
   "id": "fc23a488-9e52-4c71-8e97-89ed7ae672dc",
   "metadata": {
    "tags": []
   },
   "outputs": [],
   "source": [
    "clean_df = df.dropna()\n",
    "clean_df.tail()"
   ]
  },
  {
   "cell_type": "code",
   "execution_count": null,
   "id": "106fd764-a47d-4ae4-a3e3-ec32c3bb2824",
   "metadata": {},
   "outputs": [],
   "source": []
  }
 ],
 "metadata": {
  "kernelspec": {
   "display_name": "Python 3 (ipykernel)",
   "language": "python",
   "name": "python3"
  },
  "language_info": {
   "codemirror_mode": {
    "name": "ipython",
    "version": 3
   },
   "file_extension": ".py",
   "mimetype": "text/x-python",
   "name": "python",
   "nbconvert_exporter": "python",
   "pygments_lexer": "ipython3",
   "version": "3.11.5"
  }
 },
 "nbformat": 4,
 "nbformat_minor": 5
}
