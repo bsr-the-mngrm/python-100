{
 "cells": [
  {
   "cell_type": "code",
   "execution_count": null,
   "id": "6d7c17f7-f73b-4958-a635-ca0700fa8ce6",
   "metadata": {
    "tags": []
   },
   "outputs": [],
   "source": [
    "import pandas as pd\n",
    "df = pd.read_csv('sample_data/salaries_by_college_major.csv')"
   ]
  },
  {
   "cell_type": "code",
   "execution_count": null,
   "id": "66e27c44-7295-467d-8075-c5142b095e7e",
   "metadata": {
    "tags": []
   },
   "outputs": [],
   "source": [
    "df.head()"
   ]
  }
 ],
 "metadata": {
  "kernelspec": {
   "display_name": "Python 3 (ipykernel)",
   "language": "python",
   "name": "python3"
  },
  "language_info": {
   "codemirror_mode": {
    "name": "ipython",
    "version": 3
   },
   "file_extension": ".py",
   "mimetype": "text/x-python",
   "name": "python",
   "nbconvert_exporter": "python",
   "pygments_lexer": "ipython3",
   "version": "3.11.5"
  }
 },
 "nbformat": 4,
 "nbformat_minor": 5
}
