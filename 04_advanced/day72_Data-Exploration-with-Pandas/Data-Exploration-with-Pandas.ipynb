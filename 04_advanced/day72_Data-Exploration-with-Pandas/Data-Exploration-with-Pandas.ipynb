{
 "cells": [
  {
   "cell_type": "markdown",
   "id": "31f6a49b-2860-4980-a367-1aa8b7804497",
   "metadata": {
    "tags": []
   },
   "source": [
    "# Data Exploration with Pandas"
   ]
  },
  {
   "cell_type": "code",
   "execution_count": null,
   "id": "6d7c17f7-f73b-4958-a635-ca0700fa8ce6",
   "metadata": {
    "tags": []
   },
   "outputs": [],
   "source": [
    "import pandas as pd\n",
    "df = pd.read_csv('sample_data/salaries_by_college_major.csv')"
   ]
  },
  {
   "cell_type": "markdown",
   "id": "5712c14e-badf-4a91-ab14-4aa20f1dff19",
   "metadata": {},
   "source": [
    "## Preliminary Data Exploration"
   ]
  },
  {
   "cell_type": "code",
   "execution_count": null,
   "id": "66e27c44-7295-467d-8075-c5142b095e7e",
   "metadata": {
    "tags": []
   },
   "outputs": [],
   "source": [
    "df.head()"
   ]
  },
  {
   "cell_type": "code",
   "execution_count": null,
   "id": "403f2330-8141-4198-b558-c3d2a4e9faba",
   "metadata": {
    "tags": []
   },
   "outputs": [],
   "source": [
    "df.shape"
   ]
  },
  {
   "cell_type": "code",
   "execution_count": null,
   "id": "84441a28-11e7-4927-80c1-19da45cfa9b3",
   "metadata": {
    "tags": []
   },
   "outputs": [],
   "source": [
    "df.columns.values.tolist()"
   ]
  },
  {
   "cell_type": "markdown",
   "id": "21f38a77-eb85-4d8e-a82d-0af742bc1b03",
   "metadata": {},
   "source": [
    "## Simple Data Cleaning"
   ]
  },
  {
   "cell_type": "code",
   "execution_count": null,
   "id": "937e68f0-e1f7-4a58-8edb-3fcce558eb83",
   "metadata": {
    "tags": []
   },
   "outputs": [],
   "source": [
    "df.isna()"
   ]
  },
  {
   "cell_type": "code",
   "execution_count": null,
   "id": "ce401b5c-88c3-4698-b1e1-afde2478e38b",
   "metadata": {
    "tags": []
   },
   "outputs": [],
   "source": [
    "df.tail()"
   ]
  },
  {
   "cell_type": "code",
   "execution_count": null,
   "id": "fc23a488-9e52-4c71-8e97-89ed7ae672dc",
   "metadata": {
    "tags": []
   },
   "outputs": [],
   "source": [
    "clean_df = df.dropna()\n",
    "clean_df.tail()"
   ]
  },
  {
   "cell_type": "markdown",
   "id": "ef698a21-2c77-4a16-a957-8f1f60d43349",
   "metadata": {},
   "source": [
    "## Accessing Columns and Individual Cells in a Dataframe"
   ]
  },
  {
   "cell_type": "code",
   "execution_count": null,
   "id": "106fd764-a47d-4ae4-a3e3-ec32c3bb2824",
   "metadata": {
    "tags": []
   },
   "outputs": [],
   "source": [
    "clean_df['Starting Median Salary'].max()"
   ]
  },
  {
   "cell_type": "code",
   "execution_count": null,
   "id": "e353161b-8b77-4600-a873-debfbd2c5a66",
   "metadata": {
    "tags": []
   },
   "outputs": [],
   "source": [
    "clean_df['Starting Median Salary'].idxmax()"
   ]
  },
  {
   "cell_type": "code",
   "execution_count": null,
   "id": "6eed9d61-f651-4527-b715-a76f9f18c22f",
   "metadata": {
    "tags": []
   },
   "outputs": [],
   "source": [
    "clean_df['Undergraduate Major'].loc[43]\n",
    "# clean_df['Undergraduate Major'][43]"
   ]
  },
  {
   "cell_type": "code",
   "execution_count": null,
   "id": "86019143-9f56-4a4c-9758-ee26a9dd5f0e",
   "metadata": {
    "tags": []
   },
   "outputs": [],
   "source": [
    "clean_df.loc[43]"
   ]
  },
  {
   "cell_type": "markdown",
   "id": "6567336a-59ad-4027-b5fa-a78004702301",
   "metadata": {
    "tags": []
   },
   "source": [
    "### Challenge #1"
   ]
  },
  {
   "cell_type": "markdown",
   "id": "9a5a1808-8ec4-484e-aeab-4aab854daa1a",
   "metadata": {},
   "source": [
    "What college major has the highest mid-career salary? How much do graduates with this major earn? (Mid-career is defined as having 10+ years of experience)"
   ]
  },
  {
   "cell_type": "code",
   "execution_count": null,
   "id": "82b8936c-1568-4822-8ab1-f40eee5270ff",
   "metadata": {
    "tags": []
   },
   "outputs": [],
   "source": [
    "highest_mid_career_salary_idx = clean_df['Mid-Career Median Salary'].idxmax()\n",
    "print(\"### Highest mid-career salary ###\")\n",
    "print(f\"College major: {clean_df['Undergraduate Major'].loc[highest_mid_career_salary_idx]}\")\n",
    "print(f\"Salary: {clean_df['Mid-Career Median Salary'].loc[highest_mid_career_salary_idx]}\")"
   ]
  },
  {
   "cell_type": "markdown",
   "id": "f8a75889-e149-4def-b990-356b5e84334c",
   "metadata": {},
   "source": [
    "Which college major has the lowest starting salary and how much do graduates earn after university?"
   ]
  },
  {
   "cell_type": "code",
   "execution_count": null,
   "id": "2a3ebabc-7331-4e3a-b54c-94cb6e7baec8",
   "metadata": {
    "tags": []
   },
   "outputs": [],
   "source": [
    "lowest_starting_salary_idx = clean_df['Starting Median Salary'].idxmin()\n",
    "print(\"### Lowest starting salary ###\")\n",
    "print(f\"College major: {clean_df['Undergraduate Major'].loc[lowest_starting_salary_idx]}\")\n",
    "print(f\"Salary: {clean_df['Starting Median Salary'].loc[lowest_starting_salary_idx]}\")"
   ]
  },
  {
   "cell_type": "markdown",
   "id": "04b0c36a-d599-4894-973c-12d6c820d608",
   "metadata": {},
   "source": [
    "Which college major has the lowest mid-career salary and how much can people expect to earn with this degree? "
   ]
  },
  {
   "cell_type": "code",
   "execution_count": null,
   "id": "8b948c9c-5c56-41f5-9a9c-d0f5e3d3ed15",
   "metadata": {
    "tags": []
   },
   "outputs": [],
   "source": [
    "lowest_mid_salary_idx = clean_df['Mid-Career Median Salary'].idxmin()\n",
    "print(\"### Lowest mid-career salary ###\")\n",
    "print(f\"College major: {clean_df['Undergraduate Major'].loc[lowest_mid_salary_idx]}\")\n",
    "print(f\"Salary: {clean_df['Mid-Career Median Salary'].loc[lowest_mid_salary_idx]}\")"
   ]
  },
  {
   "cell_type": "code",
   "execution_count": null,
   "id": "2a9b844b-151e-4afd-b04b-84bf534c8a81",
   "metadata": {},
   "outputs": [],
   "source": []
  }
 ],
 "metadata": {
  "kernelspec": {
   "display_name": "Python 3 (ipykernel)",
   "language": "python",
   "name": "python3"
  },
  "language_info": {
   "codemirror_mode": {
    "name": "ipython",
    "version": 3
   },
   "file_extension": ".py",
   "mimetype": "text/x-python",
   "name": "python",
   "nbconvert_exporter": "python",
   "pygments_lexer": "ipython3",
   "version": "3.11.5"
  }
 },
 "nbformat": 4,
 "nbformat_minor": 5
}
